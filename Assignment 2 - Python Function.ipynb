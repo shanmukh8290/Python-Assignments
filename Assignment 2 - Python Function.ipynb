{
 "cells": [
  {
   "cell_type": "markdown",
   "metadata": {},
   "source": [
    "## Problem Statement"
   ]
  },
  {
   "cell_type": "markdown",
   "metadata": {},
   "source": [
    "Q.1 Write a Python Program to implement your own myreduce() function which works exactly like\n",
    "Python's built-in function reduce()\n"
   ]
  },
  {
   "cell_type": "code",
   "execution_count": 12,
   "metadata": {},
   "outputs": [
    {
     "data": {
      "text/plain": [
       "120"
      ]
     },
     "execution_count": 12,
     "metadata": {},
     "output_type": "execute_result"
    }
   ],
   "source": [
    "# Defining custom reduce function\n",
    "def myreduce(funcname,seq):\n",
    "    result = seq[0]\n",
    "    for i in seq[1:]:\n",
    "        result = funcname(result,i)\n",
    "    return result\n",
    "\n",
    "# Defining a function which will be passed to custom reduce function\n",
    "def multiply(x,y):\n",
    "    return x*y\n",
    "\n",
    "# Testing custom reduce function\n",
    "myreduce(multiply,[2,3,4,5])"
   ]
  },
  {
   "cell_type": "markdown",
   "metadata": {},
   "source": [
    "Q.2 Write a Python program to implement your own myfilter() function which works exactly like\n",
    "Python's built-in function filter()"
   ]
  },
  {
   "cell_type": "code",
   "execution_count": 2,
   "metadata": {},
   "outputs": [
    {
     "data": {
      "text/plain": [
       "[23, 22]"
      ]
     },
     "execution_count": 2,
     "metadata": {},
     "output_type": "execute_result"
    }
   ],
   "source": [
    "# Creating a custom filter function to filter the AGE greater than or equal to 18\n",
    "\n",
    "# defining a custom filter function that takes a function and sequence as input\n",
    "def myfilter(func,seq):\n",
    "    result = []\n",
    "    for i in seq:\n",
    "        if func(i):\n",
    "            result.append(i)\n",
    "    return result\n",
    "\n",
    "# Defining age function\n",
    "def age(j):\n",
    "    if j > 18:\n",
    "        return True\n",
    "\n",
    "# Testing custom myfilter function\n",
    "myfilter(age,[23,14,22])"
   ]
  },
  {
   "cell_type": "markdown",
   "metadata": {},
   "source": [
    "Q.3 Implement List comprehensions to produce the following lists.\n",
    "   Write List comprehensions to produce the following Lists\n",
    "   \n",
    "    ['A', 'C', 'A', 'D', 'G', 'I', ’L’, ‘ D’]\n",
    "   \n",
    "    ['x', 'xx', 'xxx', 'xxxx', 'y', 'yy', 'yyy', 'yyyy', 'z', 'zz', 'zzz', 'zzzz']\n",
    "\n",
    "    ['x', 'y', 'z', 'xx', 'yy', 'zz', 'xx', 'yy', 'zz', 'xxxx', 'yyyy', 'zzzz']\n",
    "    \n",
    "    [[2], [3], [4], [3], [4], [5], [4], [5], [6]]\n",
    "\n",
    "    [[2, 3, 4, 5], [3, 4, 5, 6], [4, 5, 6, 7], [5, 6, 7, 8]]\n",
    "\n",
    "    [(1, 1), (2, 1), (3, 1), (1, 2), (2, 2), (3, 2), (1, 3), (2, 3), (3, 3)]"
   ]
  },
  {
   "cell_type": "code",
   "execution_count": 3,
   "metadata": {
    "scrolled": true
   },
   "outputs": [
    {
     "data": {
      "text/plain": [
       "[(1, 1), (2, 1), (3, 1), (1, 2), (2, 2), (3, 2), (1, 3), (2, 3), (3, 3)]"
      ]
     },
     "execution_count": 3,
     "metadata": {},
     "output_type": "execute_result"
    }
   ],
   "source": [
    "inputList = 'ACADGILD'\n",
    "newList = [k for k in inputList]\n",
    "newList\n",
    "\n",
    "inputList1 = ['x','y','z']\n",
    "newList1 = [j*i for j in inputList1 for i in range(1,5)]\n",
    "newList1\n",
    "\n",
    "inputList2 = ['x','y','z']\n",
    "newList2 = [j*i for i in range(1,5) for j in inputList2]\n",
    "newList2\n",
    "\n",
    "inputList3 = [2, 3, 4]\n",
    "newList3 = [[j+i] for j in inputList3 for i in range(0,3)]\n",
    "newList3\n",
    "\n",
    "inputList4 = [2, 3, 4, 5]\n",
    "newList4 = [[j+i for j in inputList4] for i in range(0,4)]\n",
    "newList4\n",
    "\n",
    "inputList5 = [1, 2, 3]\n",
    "newList5 = [(i,j) for j in inputList5 for i in range(1,4)]\n",
    "newList5"
   ]
  },
  {
   "cell_type": "markdown",
   "metadata": {},
   "source": [
    "Q.4 Implement a function longestWord() that takes a list of words and returns the longest one."
   ]
  },
  {
   "cell_type": "code",
   "execution_count": 7,
   "metadata": {},
   "outputs": [
    {
     "name": "stdout",
     "output_type": "stream",
     "text": [
      "Enter the element into the list: are, banana, words, experience, hello, hai\n",
      "Longest Element in list is  experience\n"
     ]
    }
   ],
   "source": [
    "def longestWord(lst):\n",
    "    longest = 0\n",
    "    longest_word = \"\"\n",
    "    for i in lst.split(\",\"):\n",
    "        if len(i) > longest:\n",
    "            longest = len(i)\n",
    "            longest_word = i\n",
    "    return longest_word\n",
    "\n",
    "elementList = input(\"Enter the element into the list: \")\n",
    "longest_word = longestWord(elementList)\n",
    "print(\"Longest Element in list is {}\".format(longest_word))"
   ]
  },
  {
   "cell_type": "markdown",
   "metadata": {},
   "source": [
    "Q.5 Write a Python Program(with class concepts) to find the area of the triangle using the below\n",
    "formula.\n",
    "\n",
    "area = (s*(s-a)*(s-b)*(s-c)) ** 0.5\n",
    "\n",
    "Function to take the length of the sides of triangle from user should be defined in the parent\n",
    "class and function to calculate the area should be defined in subclass."
   ]
  },
  {
   "cell_type": "code",
   "execution_count": 8,
   "metadata": {},
   "outputs": [
    {
     "name": "stdout",
     "output_type": "stream",
     "text": [
      "Enter a: 5\n",
      "Enter b: 6\n",
      "Enter c: 7\n",
      "The Area of Triangle with given sides is 14.70cm²\n"
     ]
    }
   ],
   "source": [
    "class TriangleArea:\n",
    "    def __init__(self,a,b,c):\n",
    "        self.a = a\n",
    "        self.b = b\n",
    "        self.c = c\n",
    "    def area(self):\n",
    "        s = (self.a + self.b + self.c)/2\n",
    "        return (s*(s-a)*(s-b)*(s-c))**0.5\n",
    "\n",
    "a = float(input(\"Enter a: \"))\n",
    "b = float(input(\"Enter b: \"))\n",
    "c = float(input(\"Enter c: \"))\n",
    "\n",
    "triangleArea = TriangleArea(5,6,7)\n",
    "print(\"The Area of Triangle with given sides is {:.2f}cm\\u00b2\".format(triangleArea.area()))"
   ]
  },
  {
   "cell_type": "markdown",
   "metadata": {},
   "source": [
    "Q.6 Write a function filter_long_words() that takes a list of words and an integer n and returns the list\n",
    "of words that are longer than n."
   ]
  },
  {
   "cell_type": "code",
   "execution_count": 9,
   "metadata": {},
   "outputs": [
    {
     "name": "stdout",
     "output_type": "stream",
     "text": [
      "Enter the elements into list: banana hello happy priest experience past present\n",
      "Enter the length: 5\n",
      "The elements which are having greater than the length 5 are ['banana', 'priest', 'experience', 'present']\n"
     ]
    }
   ],
   "source": [
    "def filter_long_words(lst,n):\n",
    "    newList = []\n",
    "    for i in lst.split(\" \"):\n",
    "        if len(i) > n:\n",
    "            newList.append(i)\n",
    "    return newList\n",
    "\n",
    "\n",
    "lst = input(\"Enter the elements into list: \")\n",
    "n = int(input(\"Enter the length: \"))\n",
    "print(\"The elements which are having greater than the length {} are {}\".format(n,filter_long_words(lst,n)))"
   ]
  },
  {
   "cell_type": "markdown",
   "metadata": {},
   "source": [
    "Q.7 Write a Python program using function concept that maps list of words into a list of integers\n",
    "representing the lengths of the corresponding words.\n",
    "    \n",
    "    Hint: If a list [ ab,cde,erty] is passed on to the python function output should come as [2,3,4]\n",
    "    Here 2,3 and 4 are the lengths of the words in the list."
   ]
  },
  {
   "cell_type": "code",
   "execution_count": 10,
   "metadata": {},
   "outputs": [
    {
     "name": "stdout",
     "output_type": "stream",
     "text": [
      "[2, 3, 4]\n"
     ]
    }
   ],
   "source": [
    "def wordLength(wordlist):\n",
    "    wordlength = []\n",
    "    for i in wordlist:\n",
    "        wordlength.append(len(i))\n",
    "    return wordlength\n",
    "    \n",
    "wordlist = ['ab','cde','erty']\n",
    "print(wordLength(wordlist))"
   ]
  },
  {
   "cell_type": "markdown",
   "metadata": {},
   "source": [
    "Q.8 Write a Python function which takes a character (i.e. a string of length 1) and returns True if it is\n",
    "a vowel, False otherwise."
   ]
  },
  {
   "cell_type": "code",
   "execution_count": 11,
   "metadata": {},
   "outputs": [
    {
     "name": "stdout",
     "output_type": "stream",
     "text": [
      "Enter a character you want to check whether it is vowel or not: U\n",
      "True\n"
     ]
    }
   ],
   "source": [
    "def vowelCheck(string):\n",
    "    vowels = ['a','e','i','o','u']\n",
    "    if string.lower() in vowels:\n",
    "        return True\n",
    "    else:\n",
    "        return False\n",
    "\n",
    "string = input(\"Enter a character you want to check whether it is vowel or not: \")\n",
    "print(vowelCheck(string))"
   ]
  },
  {
   "cell_type": "markdown",
   "metadata": {},
   "source": [
    "## Great job!"
   ]
  }
 ],
 "metadata": {
  "kernelspec": {
   "display_name": "Python 3",
   "language": "python",
   "name": "python3"
  },
  "language_info": {
   "codemirror_mode": {
    "name": "ipython",
    "version": 3
   },
   "file_extension": ".py",
   "mimetype": "text/x-python",
   "name": "python",
   "nbconvert_exporter": "python",
   "pygments_lexer": "ipython3",
   "version": "3.7.3"
  }
 },
 "nbformat": 4,
 "nbformat_minor": 2
}
